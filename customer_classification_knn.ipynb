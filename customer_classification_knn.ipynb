{
  "nbformat": 4,
  "nbformat_minor": 0,
  "metadata": {
    "colab": {
      "name": "customer_classification_knn.ipynb",
      "provenance": [],
      "collapsed_sections": []
    },
    "kernelspec": {
      "name": "python3",
      "display_name": "Python 3"
    },
    "language_info": {
      "name": "python"
    }
  },
  "cells": [
    {
      "cell_type": "markdown",
      "metadata": {
        "id": "QWvdim1nDVRY"
      },
      "source": [
        "####Load libraries"
      ]
    },
    {
      "cell_type": "code",
      "metadata": {
        "id": "4U4BkNNjDF4l"
      },
      "source": [
        "import numpy as np\n",
        "import matplotlib.pyplot as plt\n",
        "from matplotlib.ticker import NullFormatter\n",
        "import pandas as pd\n",
        "import numpy as np\n",
        "import matplotlib.ticker as ticker\n",
        "from sklearn import preprocessing\n",
        "%matplotlib inline"
      ],
      "execution_count": 1,
      "outputs": []
    },
    {
      "cell_type": "markdown",
      "metadata": {
        "id": "cRk0X60EDbkJ"
      },
      "source": [
        "####**About the dataset**\n",
        "A telecommunications provider has segmented its customer base by service usage patterns, categorizing the customers into four groups. If demographic data can be used to predict group membership, the company can customize offers for individual prospective customers.\n",
        "The target field, called custcat, has four possible values that correspond to the four customer groups, as follows: \n",
        "1.  Basic Service \n",
        "2.  E-Service \n",
        "3.  Plus Service \n",
        "4.  Total Service"
      ]
    },
    {
      "cell_type": "code",
      "metadata": {
        "colab": {
          "base_uri": "https://localhost:8080/",
          "height": 205
        },
        "id": "4Hc8_yY8DazL",
        "outputId": "7f743c5a-f59f-40bb-df9f-79213bea2702"
      },
      "source": [
        "# load data\n",
        "df = pd.read_csv('/content/teleCust1000t.csv')\n",
        "df.head()"
      ],
      "execution_count": 2,
      "outputs": [
        {
          "output_type": "execute_result",
          "data": {
            "text/html": [
              "<div>\n",
              "<style scoped>\n",
              "    .dataframe tbody tr th:only-of-type {\n",
              "        vertical-align: middle;\n",
              "    }\n",
              "\n",
              "    .dataframe tbody tr th {\n",
              "        vertical-align: top;\n",
              "    }\n",
              "\n",
              "    .dataframe thead th {\n",
              "        text-align: right;\n",
              "    }\n",
              "</style>\n",
              "<table border=\"1\" class=\"dataframe\">\n",
              "  <thead>\n",
              "    <tr style=\"text-align: right;\">\n",
              "      <th></th>\n",
              "      <th>region</th>\n",
              "      <th>tenure</th>\n",
              "      <th>age</th>\n",
              "      <th>marital</th>\n",
              "      <th>address</th>\n",
              "      <th>income</th>\n",
              "      <th>ed</th>\n",
              "      <th>employ</th>\n",
              "      <th>retire</th>\n",
              "      <th>gender</th>\n",
              "      <th>reside</th>\n",
              "      <th>custcat</th>\n",
              "    </tr>\n",
              "  </thead>\n",
              "  <tbody>\n",
              "    <tr>\n",
              "      <th>0</th>\n",
              "      <td>2</td>\n",
              "      <td>13</td>\n",
              "      <td>44</td>\n",
              "      <td>1</td>\n",
              "      <td>9</td>\n",
              "      <td>64.0</td>\n",
              "      <td>4</td>\n",
              "      <td>5</td>\n",
              "      <td>0.0</td>\n",
              "      <td>0</td>\n",
              "      <td>2</td>\n",
              "      <td>1</td>\n",
              "    </tr>\n",
              "    <tr>\n",
              "      <th>1</th>\n",
              "      <td>3</td>\n",
              "      <td>11</td>\n",
              "      <td>33</td>\n",
              "      <td>1</td>\n",
              "      <td>7</td>\n",
              "      <td>136.0</td>\n",
              "      <td>5</td>\n",
              "      <td>5</td>\n",
              "      <td>0.0</td>\n",
              "      <td>0</td>\n",
              "      <td>6</td>\n",
              "      <td>4</td>\n",
              "    </tr>\n",
              "    <tr>\n",
              "      <th>2</th>\n",
              "      <td>3</td>\n",
              "      <td>68</td>\n",
              "      <td>52</td>\n",
              "      <td>1</td>\n",
              "      <td>24</td>\n",
              "      <td>116.0</td>\n",
              "      <td>1</td>\n",
              "      <td>29</td>\n",
              "      <td>0.0</td>\n",
              "      <td>1</td>\n",
              "      <td>2</td>\n",
              "      <td>3</td>\n",
              "    </tr>\n",
              "    <tr>\n",
              "      <th>3</th>\n",
              "      <td>2</td>\n",
              "      <td>33</td>\n",
              "      <td>33</td>\n",
              "      <td>0</td>\n",
              "      <td>12</td>\n",
              "      <td>33.0</td>\n",
              "      <td>2</td>\n",
              "      <td>0</td>\n",
              "      <td>0.0</td>\n",
              "      <td>1</td>\n",
              "      <td>1</td>\n",
              "      <td>1</td>\n",
              "    </tr>\n",
              "    <tr>\n",
              "      <th>4</th>\n",
              "      <td>2</td>\n",
              "      <td>23</td>\n",
              "      <td>30</td>\n",
              "      <td>1</td>\n",
              "      <td>9</td>\n",
              "      <td>30.0</td>\n",
              "      <td>1</td>\n",
              "      <td>2</td>\n",
              "      <td>0.0</td>\n",
              "      <td>0</td>\n",
              "      <td>4</td>\n",
              "      <td>3</td>\n",
              "    </tr>\n",
              "  </tbody>\n",
              "</table>\n",
              "</div>"
            ],
            "text/plain": [
              "   region  tenure  age  marital  ...  retire  gender  reside  custcat\n",
              "0       2      13   44        1  ...     0.0       0       2        1\n",
              "1       3      11   33        1  ...     0.0       0       6        4\n",
              "2       3      68   52        1  ...     0.0       1       2        3\n",
              "3       2      33   33        0  ...     0.0       1       1        1\n",
              "4       2      23   30        1  ...     0.0       0       4        3\n",
              "\n",
              "[5 rows x 12 columns]"
            ]
          },
          "metadata": {
            "tags": []
          },
          "execution_count": 2
        }
      ]
    },
    {
      "cell_type": "code",
      "metadata": {
        "colab": {
          "base_uri": "https://localhost:8080/"
        },
        "id": "getdmcrZRFmN",
        "outputId": "8029e219-d67c-487d-df5f-44f7890d9006"
      },
      "source": [
        "df.info()"
      ],
      "execution_count": 3,
      "outputs": [
        {
          "output_type": "stream",
          "text": [
            "<class 'pandas.core.frame.DataFrame'>\n",
            "RangeIndex: 1000 entries, 0 to 999\n",
            "Data columns (total 12 columns):\n",
            " #   Column   Non-Null Count  Dtype  \n",
            "---  ------   --------------  -----  \n",
            " 0   region   1000 non-null   int64  \n",
            " 1   tenure   1000 non-null   int64  \n",
            " 2   age      1000 non-null   int64  \n",
            " 3   marital  1000 non-null   int64  \n",
            " 4   address  1000 non-null   int64  \n",
            " 5   income   1000 non-null   float64\n",
            " 6   ed       1000 non-null   int64  \n",
            " 7   employ   1000 non-null   int64  \n",
            " 8   retire   1000 non-null   float64\n",
            " 9   gender   1000 non-null   int64  \n",
            " 10  reside   1000 non-null   int64  \n",
            " 11  custcat  1000 non-null   int64  \n",
            "dtypes: float64(2), int64(10)\n",
            "memory usage: 93.9 KB\n"
          ],
          "name": "stdout"
        }
      ]
    },
    {
      "cell_type": "code",
      "metadata": {
        "colab": {
          "base_uri": "https://localhost:8080/",
          "height": 319
        },
        "id": "G4gTPhx7Rkr-",
        "outputId": "0bd2570f-1cc7-41ba-e5a2-e1b19e5d9555"
      },
      "source": [
        "df.describe()"
      ],
      "execution_count": 4,
      "outputs": [
        {
          "output_type": "execute_result",
          "data": {
            "text/html": [
              "<div>\n",
              "<style scoped>\n",
              "    .dataframe tbody tr th:only-of-type {\n",
              "        vertical-align: middle;\n",
              "    }\n",
              "\n",
              "    .dataframe tbody tr th {\n",
              "        vertical-align: top;\n",
              "    }\n",
              "\n",
              "    .dataframe thead th {\n",
              "        text-align: right;\n",
              "    }\n",
              "</style>\n",
              "<table border=\"1\" class=\"dataframe\">\n",
              "  <thead>\n",
              "    <tr style=\"text-align: right;\">\n",
              "      <th></th>\n",
              "      <th>region</th>\n",
              "      <th>tenure</th>\n",
              "      <th>age</th>\n",
              "      <th>marital</th>\n",
              "      <th>address</th>\n",
              "      <th>income</th>\n",
              "      <th>ed</th>\n",
              "      <th>employ</th>\n",
              "      <th>retire</th>\n",
              "      <th>gender</th>\n",
              "      <th>reside</th>\n",
              "      <th>custcat</th>\n",
              "    </tr>\n",
              "  </thead>\n",
              "  <tbody>\n",
              "    <tr>\n",
              "      <th>count</th>\n",
              "      <td>1000.0000</td>\n",
              "      <td>1000.000000</td>\n",
              "      <td>1000.000000</td>\n",
              "      <td>1000.000000</td>\n",
              "      <td>1000.000000</td>\n",
              "      <td>1000.000000</td>\n",
              "      <td>1000.000000</td>\n",
              "      <td>1000.000000</td>\n",
              "      <td>1000.000000</td>\n",
              "      <td>1000.000000</td>\n",
              "      <td>1000.000000</td>\n",
              "      <td>1000.000000</td>\n",
              "    </tr>\n",
              "    <tr>\n",
              "      <th>mean</th>\n",
              "      <td>2.0220</td>\n",
              "      <td>35.526000</td>\n",
              "      <td>41.684000</td>\n",
              "      <td>0.495000</td>\n",
              "      <td>11.551000</td>\n",
              "      <td>77.535000</td>\n",
              "      <td>2.671000</td>\n",
              "      <td>10.987000</td>\n",
              "      <td>0.047000</td>\n",
              "      <td>0.517000</td>\n",
              "      <td>2.331000</td>\n",
              "      <td>2.487000</td>\n",
              "    </tr>\n",
              "    <tr>\n",
              "      <th>std</th>\n",
              "      <td>0.8162</td>\n",
              "      <td>21.359812</td>\n",
              "      <td>12.558816</td>\n",
              "      <td>0.500225</td>\n",
              "      <td>10.086681</td>\n",
              "      <td>107.044165</td>\n",
              "      <td>1.222397</td>\n",
              "      <td>10.082087</td>\n",
              "      <td>0.211745</td>\n",
              "      <td>0.499961</td>\n",
              "      <td>1.435793</td>\n",
              "      <td>1.120306</td>\n",
              "    </tr>\n",
              "    <tr>\n",
              "      <th>min</th>\n",
              "      <td>1.0000</td>\n",
              "      <td>1.000000</td>\n",
              "      <td>18.000000</td>\n",
              "      <td>0.000000</td>\n",
              "      <td>0.000000</td>\n",
              "      <td>9.000000</td>\n",
              "      <td>1.000000</td>\n",
              "      <td>0.000000</td>\n",
              "      <td>0.000000</td>\n",
              "      <td>0.000000</td>\n",
              "      <td>1.000000</td>\n",
              "      <td>1.000000</td>\n",
              "    </tr>\n",
              "    <tr>\n",
              "      <th>25%</th>\n",
              "      <td>1.0000</td>\n",
              "      <td>17.000000</td>\n",
              "      <td>32.000000</td>\n",
              "      <td>0.000000</td>\n",
              "      <td>3.000000</td>\n",
              "      <td>29.000000</td>\n",
              "      <td>2.000000</td>\n",
              "      <td>3.000000</td>\n",
              "      <td>0.000000</td>\n",
              "      <td>0.000000</td>\n",
              "      <td>1.000000</td>\n",
              "      <td>1.000000</td>\n",
              "    </tr>\n",
              "    <tr>\n",
              "      <th>50%</th>\n",
              "      <td>2.0000</td>\n",
              "      <td>34.000000</td>\n",
              "      <td>40.000000</td>\n",
              "      <td>0.000000</td>\n",
              "      <td>9.000000</td>\n",
              "      <td>47.000000</td>\n",
              "      <td>3.000000</td>\n",
              "      <td>8.000000</td>\n",
              "      <td>0.000000</td>\n",
              "      <td>1.000000</td>\n",
              "      <td>2.000000</td>\n",
              "      <td>3.000000</td>\n",
              "    </tr>\n",
              "    <tr>\n",
              "      <th>75%</th>\n",
              "      <td>3.0000</td>\n",
              "      <td>54.000000</td>\n",
              "      <td>51.000000</td>\n",
              "      <td>1.000000</td>\n",
              "      <td>18.000000</td>\n",
              "      <td>83.000000</td>\n",
              "      <td>4.000000</td>\n",
              "      <td>17.000000</td>\n",
              "      <td>0.000000</td>\n",
              "      <td>1.000000</td>\n",
              "      <td>3.000000</td>\n",
              "      <td>3.000000</td>\n",
              "    </tr>\n",
              "    <tr>\n",
              "      <th>max</th>\n",
              "      <td>3.0000</td>\n",
              "      <td>72.000000</td>\n",
              "      <td>77.000000</td>\n",
              "      <td>1.000000</td>\n",
              "      <td>55.000000</td>\n",
              "      <td>1668.000000</td>\n",
              "      <td>5.000000</td>\n",
              "      <td>47.000000</td>\n",
              "      <td>1.000000</td>\n",
              "      <td>1.000000</td>\n",
              "      <td>8.000000</td>\n",
              "      <td>4.000000</td>\n",
              "    </tr>\n",
              "  </tbody>\n",
              "</table>\n",
              "</div>"
            ],
            "text/plain": [
              "          region       tenure  ...       reside      custcat\n",
              "count  1000.0000  1000.000000  ...  1000.000000  1000.000000\n",
              "mean      2.0220    35.526000  ...     2.331000     2.487000\n",
              "std       0.8162    21.359812  ...     1.435793     1.120306\n",
              "min       1.0000     1.000000  ...     1.000000     1.000000\n",
              "25%       1.0000    17.000000  ...     1.000000     1.000000\n",
              "50%       2.0000    34.000000  ...     2.000000     3.000000\n",
              "75%       3.0000    54.000000  ...     3.000000     3.000000\n",
              "max       3.0000    72.000000  ...     8.000000     4.000000\n",
              "\n",
              "[8 rows x 12 columns]"
            ]
          },
          "metadata": {
            "tags": []
          },
          "execution_count": 4
        }
      ]
    },
    {
      "cell_type": "markdown",
      "metadata": {
        "id": "bCkuZNJQEwYw"
      },
      "source": [
        "#### Dataset EDA"
      ]
    },
    {
      "cell_type": "code",
      "metadata": {
        "colab": {
          "base_uri": "https://localhost:8080/",
          "height": 371
        },
        "id": "4e5YCtYsEUdx",
        "outputId": "72035e92-0c5a-4698-82f7-0fd2c556d43f"
      },
      "source": [
        "import seaborn as sns\n",
        "sns.set_theme(style=\"darkgrid\")\n",
        "sns.countplot(data = df, x ='custcat')\n",
        "df['custcat'].value_counts()"
      ],
      "execution_count": 5,
      "outputs": [
        {
          "output_type": "execute_result",
          "data": {
            "text/plain": [
              "3    281\n",
              "1    266\n",
              "4    236\n",
              "2    217\n",
              "Name: custcat, dtype: int64"
            ]
          },
          "metadata": {
            "tags": []
          },
          "execution_count": 5
        },
        {
          "output_type": "display_data",
          "data": {
            "image/png": "[encoded data removed]",
            "text/plain": [
              "<Figure size 432x288 with 1 Axes>"
            ]
          },
          "metadata": {
            "tags": []
          }
        }
      ]
    },
    {
      "cell_type": "code",
      "metadata": {
        "colab": {
          "base_uri": "https://localhost:8080/",
          "height": 1000
        },
        "id": "IMuAr6PlFKnc",
        "outputId": "010abc28-ac78-4f11-fee7-8fe3df34d4dc"
      },
      "source": [
        "for i in df.columns:\n",
        "  sns.histplot(data = df, x = i)\n",
        "  plt.show()"
      ],
      "execution_count": 6,
      "outputs": [
        {
          "output_type": "display_data",
          "data": {
            "image/png": "[encoded data removed]",
            "text/plain": [
              "<Figure size 432x288 with 1 Axes>"
            ]
          },
          "metadata": {
            "tags": []
          }
        },
        {
          "output_type": "display_data",
          "data": {
            "image/png": "[encoded data removed]",
            "text/plain": [
              "<Figure size 432x288 with 1 Axes>"
            ]
          },
          "metadata": {
            "tags": []
          }
        },
        {
          "output_type": "display_data",
          "data": {
            "image/png": "[encoded data removed]",
            "text/plain": [
              "<Figure size 432x288 with 1 Axes>"
            ]
          },
          "metadata": {
            "tags": []
          }
        },
        {
          "output_type": "display_data",
          "data": {
            "image/png": "[encoded data removed]",
            "text/plain": [
              "<Figure size 432x288 with 1 Axes>"
            ]
          },
          "metadata": {
            "tags": []
          }
        },
        {
          "output_type": "display_data",
          "data": {
            "image/png": "[encoded data removed]",
            "text/plain": [
              "<Figure size 432x288 with 1 Axes>"
            ]
          },
          "metadata": {
            "tags": []
          }
        },
        {
          "output_type": "display_data",
          "data": {
            "image/png": "[encoded data removed]",
            "text/plain": [
              "<Figure size 432x288 with 1 Axes>"
            ]
          },
          "metadata": {
            "tags": []
          }
        },
        {
          "output_type": "display_data",
          "data": {
            "image/png": "[encoded data removed]",
            "text/plain": [
              "<Figure size 432x288 with 1 Axes>"
            ]
          },
          "metadata": {
            "tags": []
          }
        },
        {
          "output_type": "display_data",
          "data": {
            "image/png": "[encoded data removed]",
            "text/plain": [
              "<Figure size 432x288 with 1 Axes>"
            ]
          },
          "metadata": {
            "tags": []
          }
        },
        {
          "output_type": "display_data",
          "data": {
            "image/png": "[encoded data removed]",
            "text/plain": [
              "<Figure size 432x288 with 1 Axes>"
            ]
          },
          "metadata": {
            "tags": []
          }
        },
        {
          "output_type": "display_data",
          "data": {
            "image/png": "[encoded data removed]",
            "text/plain": [
              "<Figure size 432x288 with 1 Axes>"
            ]
          },
          "metadata": {
            "tags": []
          }
        },
        {
          "output_type": "display_data",
          "data": {
            "image/png": "[encoded data removed]",
            "text/plain": [
              "<Figure size 432x288 with 1 Axes>"
            ]
          },
          "metadata": {
            "tags": []
          }
        },
        {
          "output_type": "display_data",
          "data": {
            "image/png": "[encoded data removed]",
            "text/plain": [
              "<Figure size 432x288 with 1 Axes>"
            ]
          },
          "metadata": {
            "tags": []
          }
        }
      ]
    },
    {
      "cell_type": "markdown",
      "metadata": {
        "id": "ujKzqk7sRzZR"
      },
      "source": [
        "####Define feature & target variables."
      ]
    },
    {
      "cell_type": "code",
      "metadata": {
        "colab": {
          "base_uri": "https://localhost:8080/"
        },
        "id": "_V_ZaCtHKuLo",
        "outputId": "237d5599-e3f8-4265-9cf4-a1cfd52b6a38"
      },
      "source": [
        "x = df[['region', 'tenure','age', 'marital', 'address', 'income', 'ed', 'employ','retire', 'gender', 'reside']] .values\n",
        "y = df['custcat'].values\n",
        "x[:1],y[:1]"
      ],
      "execution_count": 7,
      "outputs": [
        {
          "output_type": "execute_result",
          "data": {
            "text/plain": [
              "(array([[ 2., 13., 44.,  1.,  9., 64.,  4.,  5.,  0.,  0.,  2.]]), array([1]))"
            ]
          },
          "metadata": {
            "tags": []
          },
          "execution_count": 7
        }
      ]
    },
    {
      "cell_type": "markdown",
      "metadata": {
        "id": "T643obZOTgbY"
      },
      "source": [
        "####Classification using KNN (K nearest neighbor)\n",
        "Split data into train-test samples using KFold. Followed by Data Standardization to give data zero mean and unit variance, good practice esp for algo like KNN which is based on distance."
      ]
    },
    {
      "cell_type": "code",
      "metadata": {
        "id": "Zovn2UFumtCF"
      },
      "source": [
        "from sklearn.neighbors import KNeighborsClassifier\n",
        "from sklearn import metrics"
      ],
      "execution_count": 8,
      "outputs": []
    },
    {
      "cell_type": "code",
      "metadata": {
        "colab": {
          "base_uri": "https://localhost:8080/"
        },
        "id": "oN98B5vU0U94",
        "outputId": "426d40c4-4f18-49de-b65d-f37f3be2c69d"
      },
      "source": [
        "from sklearn.model_selection import KFold\n",
        "kf = KFold(n_splits=7,random_state=11,shuffle=True)\n",
        "kf.get_n_splits(x)\n",
        "print(kf)"
      ],
      "execution_count": 9,
      "outputs": [
        {
          "output_type": "stream",
          "text": [
            "KFold(n_splits=7, random_state=11, shuffle=True)\n"
          ],
          "name": "stdout"
        }
      ]
    },
    {
      "cell_type": "code",
      "metadata": {
        "id": "v4gbzIVb0nAk"
      },
      "source": [
        "for train_index, test_index in kf.split(x):\n",
        "  x_train, x_test = x[train_index], x[test_index]\n",
        "  y_train, y_test = y[train_index], y[test_index]"
      ],
      "execution_count": 10,
      "outputs": []
    },
    {
      "cell_type": "code",
      "metadata": {
        "colab": {
          "base_uri": "https://localhost:8080/"
        },
        "id": "SBeEeTkgV3WI",
        "outputId": "cb1c67ad-6ae4-4f75-c3c9-e86445592c79"
      },
      "source": [
        "scale = preprocessing.StandardScaler()\n",
        "x_train = scale.fit_transform(x_train)\n",
        "print(x_train[:1])\n",
        "x_test = scale.transform(x_test)\n",
        "print(x_test[:1])"
      ],
      "execution_count": 11,
      "outputs": [
        {
          "output_type": "stream",
          "text": [
            "[[-0.03158547 -1.06794793  0.19326239  1.00467292 -0.25826768 -0.12318509\n",
            "   1.0921122  -0.59085873 -0.22113289 -1.06504852 -0.23560363]]\n",
            "[[ 1.20024787 -1.16163428 -0.67738697  1.00467292 -0.45550281  0.54294606\n",
            "   1.92134429 -0.59085873 -0.22113289 -1.06504852  2.56229136]]\n"
          ],
          "name": "stdout"
        }
      ]
    },
    {
      "cell_type": "code",
      "metadata": {
        "colab": {
          "base_uri": "https://localhost:8080/"
        },
        "id": "fCHdgGvB7HMR",
        "outputId": "30543ff7-9525-4fab-d93c-fd58fa086350"
      },
      "source": [
        "Ks = 30\n",
        "mean_acc = np.zeros((Ks-1))\n",
        "std_acc = np.zeros((Ks-1))\n",
        "ConfustionMx = [];\n",
        "for n in range(1,Ks):\n",
        "    \n",
        "    #Train Model and Predict  \n",
        "    neigh = KNeighborsClassifier(n_neighbors = n).fit(x_train,y_train)\n",
        "    yhat=neigh.predict(x_test)\n",
        "    mean_acc[n-1] = metrics.accuracy_score(y_test, yhat)\n",
        "\n",
        "    \n",
        "    std_acc[n-1]=np.std(yhat==y_test)/np.sqrt(yhat.shape[0])\n",
        "\n",
        "mean_acc"
      ],
      "execution_count": 12,
      "outputs": [
        {
          "output_type": "execute_result",
          "data": {
            "text/plain": [
              "array([0.26056338, 0.29577465, 0.34507042, 0.33802817, 0.34507042,\n",
              "       0.3028169 , 0.35915493, 0.35915493, 0.31690141, 0.35211268,\n",
              "       0.34507042, 0.36619718, 0.35211268, 0.38028169, 0.38028169,\n",
              "       0.4084507 , 0.42253521, 0.4084507 , 0.42957746, 0.45070423,\n",
              "       0.41549296, 0.4084507 , 0.42253521, 0.4084507 , 0.40140845,\n",
              "       0.40140845, 0.38028169, 0.4084507 , 0.38732394])"
            ]
          },
          "metadata": {
            "tags": []
          },
          "execution_count": 12
        }
      ]
    },
    {
      "cell_type": "code",
      "metadata": {
        "colab": {
          "base_uri": "https://localhost:8080/",
          "height": 293
        },
        "id": "rP04WUU7USto",
        "outputId": "c00d318f-fe5e-4624-fd22-ba5dc67b1040"
      },
      "source": [
        "plt.plot(range(1,Ks),mean_acc,'g')\n",
        "plt.fill_between(range(1,Ks),mean_acc - 1 * std_acc,mean_acc + 1 * std_acc, alpha=0.10)\n",
        "plt.legend(('Accuracy ', '+/- 3xstd'))\n",
        "plt.ylabel('Accuracy ')\n",
        "plt.xlabel('Number of Neighbors (K)')\n",
        "plt.tight_layout()\n",
        "plt.show()"
      ],
      "execution_count": 13,
      "outputs": [
        {
          "output_type": "display_data",
          "data": {
            "image/png": "[encoded data removed]",
            "text/plain": [
              "<Figure size 432x288 with 1 Axes>"
            ]
          },
          "metadata": {
            "tags": []
          }
        }
      ]
    },
    {
      "cell_type": "code",
      "metadata": {
        "colab": {
          "base_uri": "https://localhost:8080/"
        },
        "id": "NaceL8w17SyC",
        "outputId": "0161a23c-cfde-45a4-b766-9e80a3053828"
      },
      "source": [
        "print( \"The best accuracy was with\", mean_acc.max(), \"with k=\", mean_acc.argmax()+1)"
      ],
      "execution_count": 14,
      "outputs": [
        {
          "output_type": "stream",
          "text": [
            "The best accuracy was with 0.4507042253521127 with k= 20\n"
          ],
          "name": "stdout"
        }
      ]
    },
    {
      "cell_type": "code",
      "metadata": {
        "colab": {
          "base_uri": "https://localhost:8080/"
        },
        "id": "Sy0TgcID7oRU",
        "outputId": "e9fa5ced-20b0-4e0f-860c-09a2c432d265"
      },
      "source": [
        "k = 20\n",
        "neigh = KNeighborsClassifier(n_neighbors = k).fit(x_train,y_train)\n",
        "yhat = neigh.predict(x_test)\n",
        "print(\"Train set Accuracy: \", metrics.accuracy_score(y_train, neigh.predict(x_train)))\n",
        "print(\"Test set Accuracy: \", metrics.accuracy_score(y_test, yhat))"
      ],
      "execution_count": 15,
      "outputs": [
        {
          "output_type": "stream",
          "text": [
            "Train set Accuracy:  0.4662004662004662\n",
            "Test set Accuracy:  0.4507042253521127\n"
          ],
          "name": "stdout"
        }
      ]
    },
    {
      "cell_type": "markdown",
      "metadata": {
        "id": "TRCK6Jb5eV34"
      },
      "source": [
        "#### Credits - IBM Cognitive Class"
      ]
    }
  ]
}